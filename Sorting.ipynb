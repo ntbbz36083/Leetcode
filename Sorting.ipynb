{
 "cells": [
  {
   "cell_type": "code",
   "execution_count": 22,
   "metadata": {},
   "outputs": [],
   "source": [
    "def heapify(arr, n, i): \n",
    "    largest = i # Initialize largest as root \n",
    "    l = 2 * i + 1     # left = 2*i + 1 \n",
    "    r = 2 * i + 2     # right = 2*i + 2 \n",
    "  \n",
    "    # See if left child of root exists and is \n",
    "    # greater than root \n",
    "    if l < n and arr[i] < arr[l]: \n",
    "        largest = l \n",
    "  \n",
    "    # See if right child of root exists and is \n",
    "    # greater than root \n",
    "    if r < n and arr[largest] < arr[r]: \n",
    "        largest = r \n",
    "  \n",
    "    # Change root, if needed \n",
    "    if largest != i: \n",
    "        arr[i],arr[largest] = arr[largest],arr[i] # swap \n",
    "  \n",
    "        # Heapify the root. \n",
    "        heapify(arr, n, largest) "
   ]
  },
  {
   "cell_type": "code",
   "execution_count": 28,
   "metadata": {},
   "outputs": [],
   "source": [
    "def heapSort(arr): \n",
    "    n = len(arr) \n",
    "  \n",
    "    # Build a maxheap. \n",
    "    for i in range(n, -1, -1): \n",
    "        heapify(arr, n, i) \n",
    "  \n",
    "     #One by one extract elements \n",
    "    #for i in range(n-1, 0, -1): \n",
    "     #   arr[i], arr[0] = arr[0], arr[i] # swap \n",
    "      #  heapify(arr, i, 0) "
   ]
  },
  {
   "cell_type": "code",
   "execution_count": 29,
   "metadata": {},
   "outputs": [],
   "source": [
    "heapSort(arr) "
   ]
  },
  {
   "cell_type": "code",
   "execution_count": 2,
   "metadata": {},
   "outputs": [],
   "source": [
    "# Python programe to perform TimSort\n",
    "Run = 32\n",
    "# This function sorts array from left index to right index which is of size atmost RUN\n",
    "def insertionSort(arr, left, right):\n",
    "    for i in range(left+1, right+1):\n",
    "        temp = arr[i]\n",
    "        j = i - 1\n",
    "        while arr[j] > temp and j >= left:\n",
    "            arr[j+1] = arr[j]\n",
    "            j -= 1\n",
    "        arr[j+1] = temp\n",
    "# Merge function merges the sorted runs\n",
    "def merge(arr, l, m, r):\n",
    "    len1, len2 = m-l+1, r-m\n",
    "    left, right = [], []\n",
    "    for i in range(0,len1):\n",
    "        left.append(arr[l + i])\n",
    "    for i in range(0,len2):\n",
    "        right.append(arr[m + 1 + i])\n",
    "    i, j, k = 0,0,l\n",
    "    while i < len1 and j < len2:\n",
    "        if left[i] <= right[j]:\n",
    "            arr[k] = left[i]\n",
    "            i += 1\n",
    "        else:\n",
    "            arr[k] = right[j]\n",
    "            j += 1\n",
    "        k += 1\n",
    "    while i < len1:\n",
    "        arr[k] = left[i]\n",
    "        k += 1\n",
    "        i += 1\n",
    "    while j < len2:\n",
    "        arr[k] = left[j]\n",
    "        k += 1\n",
    "        j += 1\n",
    "def timSort(arr, n):\n",
    "    for i in range(0, n, RUN):\n",
    "        insertionSort(arr, i, min(i + 31, n-1))\n",
    "    size = RUN\n",
    "    while size < n:\n",
    "        for left in range(0, n, 2*size):\n",
    "            mid = left + size - 1\n",
    "            right = min(left + 2*size - 1, n-1)\n",
    "            merge(arr, left, mid, right)\n",
    "        size = 2*size"
   ]
  },
  {
   "cell_type": "code",
   "execution_count": 3,
   "metadata": {},
   "outputs": [],
   "source": [
    "# Python program for cout=nting sort\n",
    "def countSort(arr):\n",
    "    output = [0 for i in range(256)]\n",
    "    count = [0 for i in range(256)]\n",
    "    ans = [\"\" for _ in arr]\n",
    "    for i in arr:\n",
    "        count[ord(i)] += 1\n",
    "    for i in range(256):\n",
    "        count[i] += count[i-1]\n",
    "    for i in range(len(arr)):\n",
    "        output[count[ord(arr[i])] - 1] = arr[i]\n",
    "        count[ord(arr[i])] -= 1\n",
    "    for i in range(len(arr)):\n",
    "        ans[i] = output[i]\n",
    "    return ans"
   ]
  },
  {
   "cell_type": "code",
   "execution_count": null,
   "metadata": {},
   "outputs": [],
   "source": []
  }
 ],
 "metadata": {
  "kernelspec": {
   "display_name": "Python 3",
   "language": "python",
   "name": "python3"
  },
  "language_info": {
   "codemirror_mode": {
    "name": "ipython",
    "version": 3
   },
   "file_extension": ".py",
   "mimetype": "text/x-python",
   "name": "python",
   "nbconvert_exporter": "python",
   "pygments_lexer": "ipython3",
   "version": "3.6.3"
  }
 },
 "nbformat": 4,
 "nbformat_minor": 2
}
