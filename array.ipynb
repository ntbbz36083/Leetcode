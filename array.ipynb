{
 "cells": [
  {
   "cell_type": "code",
   "execution_count": 1,
   "metadata": {},
   "outputs": [],
   "source": [
    "#1 twosum\n",
    "def twoSum(nums, target):\n",
    "        \"\"\"\n",
    "        :type nums: List[int]\n",
    "        :type target: int\n",
    "        :rtype: List[int]\n",
    "        \"\"\"\n",
    "        if len(nums) < 1:\n",
    "            return False\n",
    "        new = {}\n",
    "        for i in range(len(nums)):\n",
    "            if nums[i] in new:\n",
    "                return [new[nums[i]], i]\n",
    "            else:\n",
    "                new[target-nums[i]] = i"
   ]
  },
  {
   "cell_type": "code",
   "execution_count": 13,
   "metadata": {},
   "outputs": [],
   "source": [
    "#4 Median of Two Sorted Arrays\n",
    "def findMedianSortedArrays(nums1, nums2):\n",
    "    \"\"\"\n",
    "    :type nums1: List[int]\n",
    "    :type nums2: List[int]\n",
    "    :rtype: float\n",
    "    \"\"\"\n",
    "    arr = [0 for i in range(len(nums1) + len(nums2))]\n",
    "    i = j = k = 0\n",
    "    while i < len(nums1) and j < len(nums2):\n",
    "        if nums1[i] < nums2[j]:\n",
    "            arr[k] = nums1[i]\n",
    "            i += 1\n",
    "            k += 1\n",
    "        else:\n",
    "            arr[k] = nums2[j]\n",
    "            j += 1\n",
    "            k += 1\n",
    "    while i < len(nums1):\n",
    "        arr[k] = nums1[i]\n",
    "        k += 1\n",
    "        i += 1\n",
    "    while j < len(nums2):\n",
    "        arr[k] = nums2[j]\n",
    "        k += 1\n",
    "        j += 1\n",
    "\n",
    "    if len(arr) % 2:\n",
    "        return arr[(len(arr)-1) / 2]\n",
    "    else:\n",
    "        return float(arr[(len(arr)-1) / 2] + arr[(len(arr)-1) / 2 + 1]) / 2"
   ]
  },
  {
   "cell_type": "code",
   "execution_count": 14,
   "metadata": {},
   "outputs": [
    {
     "data": {
      "text/plain": [
       "2.5"
      ]
     },
     "execution_count": 14,
     "metadata": {},
     "output_type": "execute_result"
    }
   ],
   "source": [
    "#11 Container With Most Water\n",
    "def maxArea(height):\n",
    "    \"\"\"\n",
    "    :type height: List[int]\n",
    "    :rtype: int\n",
    "    \"\"\"\n",
    "    r = len(height) - 1\n",
    "    l = 0\n",
    "    MAX = 0\n",
    "    while l != r:\n",
    "        if height[l] > height[r]:\n",
    "            area = height[r] * (r - l)\n",
    "            r -= 1\n",
    "        else:\n",
    "            area = height[l] * (r - l)\n",
    "            l += 1\n",
    "        MAX = max(area, MAX) \n",
    "    return MAX "
   ]
  },
  {
   "cell_type": "code",
   "execution_count": 3,
   "metadata": {},
   "outputs": [
    {
     "name": "stdout",
     "output_type": "stream",
     "text": [
      "[-1, 1, 2]\n"
     ]
    }
   ],
   "source": [
    "#16 3Sum Closest\n",
    "def threeSumClosest(nums, target):\n",
    "    \"\"\"\n",
    "    :type nums: List[int]\n",
    "    :type target: int\n",
    "    :rtype: int\n",
    "    \"\"\"\n",
    "    nums.sort()\n",
    "    MIN = nums[0] + nums[1] + nums[2]\n",
    "    res = []\n",
    "    for i in xrange(len(nums) - 2):\n",
    "        l, r = i + 1, len(nums) - 1\n",
    "        while l < r:\n",
    "            s = nums[i] + nums[l] + nums[r]\n",
    "            if s == target:\n",
    "                return s\n",
    "            if abs (s - target) < abs(MIN - target):\n",
    "                MIN = s\n",
    "                res.append((MIN,[nums[i],nums[l],nums[r]]))\n",
    "            if s < target:\n",
    "                l += 1\n",
    "            else:\n",
    "                r -= 1\n",
    "    for i in range(len(res)):\n",
    "        if MIN == res[i][0]:\n",
    "            print res[i][1]\n",
    "nums = [-1,2,1,-4]\n",
    "target = 1\n",
    "threeSumClosest(nums, target)"
   ]
  },
  {
   "cell_type": "code",
   "execution_count": null,
   "metadata": {},
   "outputs": [],
   "source": [
    "#26. Remove Duplicates from Sorted Array\n",
    "def removeDuplicates(nums):\n",
    "    \"\"\"\n",
    "    :type nums: List[int]\n",
    "    :rtype: int\n",
    "    \"\"\"\n",
    "    if len(nums) < 1:\n",
    "        return 0\n",
    "    newtail = 0\n",
    "    for i in range(1, len(nums)):\n",
    "        if nums[i] != nums[newtail]:\n",
    "            newtail += 1\n",
    "            nums[newtail] = nums[i]\n",
    "    return newtail+1"
   ]
  },
  {
   "cell_type": "code",
   "execution_count": null,
   "metadata": {},
   "outputs": [],
   "source": [
    "#27. Remove Element\n",
    "def removeElement(nums, val):\n",
    "    \"\"\"\n",
    "    :type nums: List[int]\n",
    "    :type val: int\n",
    "    :rtype: int\n",
    "    \"\"\"\n",
    "    newtail = 0\n",
    "    n = len(nums)\n",
    "    for i in range(n):\n",
    "        if nums[i] != val:\n",
    "            nums[newtail] = nums[i]\n",
    "            newtail += 1\n",
    "    return newtail"
   ]
  },
  {
   "cell_type": "code",
   "execution_count": 1,
   "metadata": {},
   "outputs": [
    {
     "data": {
      "text/plain": [
       "0"
      ]
     },
     "execution_count": 1,
     "metadata": {},
     "output_type": "execute_result"
    }
   ],
   "source": [
    "#33. Search in Rotated Sorted Array\n",
    "#https://leetcode.wang/leetCode-33-Search-in-Rotated-Sorted-Array.html\n",
    "def search(ums, target):\n",
    "    \"\"\"\n",
    "    :type nums: List[int]\n",
    "    :type target: int\n",
    "    :rtype: int\n",
    "    \"\"\"\n",
    "    if not nums:\n",
    "        return -1\n",
    "    low = 0\n",
    "    high = len(nums) - 1\n",
    "\n",
    "    while low <= high:\n",
    "        mid = (low + high) / 2\n",
    "\n",
    "        if target == nums[mid]:\n",
    "            return mid\n",
    "        # if low <= mid, means the bigger array is longer\n",
    "        if nums[low] <= nums[mid]:\n",
    "            # target located in the lower part and mid\n",
    "            if nums[low] <= target <= nums[mid]:\n",
    "                high = mid -1\n",
    "            # target located in the mid and smaller part\n",
    "            else:\n",
    "                low = mid + 1\n",
    "        # if low <= mid, means the smaller array is longer\n",
    "        else:\n",
    "            # target located in the mid and higher part\n",
    "            if nums[mid] <= target <= nums[high]:\n",
    "                low = mid + 1\n",
    "            # target located in the smaller part and mid    \n",
    "            else:\n",
    "                high = mid - 1\n",
    "    return -1"
   ]
  },
  {
   "cell_type": "code",
   "execution_count": null,
   "metadata": {},
   "outputs": [],
   "source": []
  }
 ],
 "metadata": {
  "kernelspec": {
   "display_name": "Python 2",
   "language": "python",
   "name": "python2"
  },
  "language_info": {
   "codemirror_mode": {
    "name": "ipython",
    "version": 2
   },
   "file_extension": ".py",
   "mimetype": "text/x-python",
   "name": "python",
   "nbconvert_exporter": "python",
   "pygments_lexer": "ipython2",
   "version": "2.7.14"
  }
 },
 "nbformat": 4,
 "nbformat_minor": 2
}
